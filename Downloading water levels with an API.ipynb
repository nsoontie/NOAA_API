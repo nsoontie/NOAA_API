{
 "cells": [
  {
   "cell_type": "markdown",
   "metadata": {},
   "source": [
    "An example of downloading water level data from the NOAA CO-OPS website.\n",
    " * https://tidesandcurrents.noaa.gov/stations.html?type=Water+Levels \n",
    "\n",
    "### API Documentation\n",
    "When working with an API it is important to become familiar the API documentation. Fortunately, the NOAA API is well documented.\n",
    "* https://tidesandcurrents.noaa.gov/api/\n",
    "\n",
    "\n",
    "### Write a download function\n",
    "After reading the NOAA API documentation, we can construct a function to download water levels from NOAA. We have two tasks:\n",
    "\n",
    "1. Construct a url by concantenating strings.\n",
    "2. Retrieve data from that url.\n",
    "\n",
    "In python, we can retrieve data from a url with the urllib library.\n",
    "* https://docs.python.org/3/library/urllib.html\n",
    "\n",
    "This library allows us to save a file directly to our computer without visiting the url in our browser."
   ]
  },
  {
   "cell_type": "code",
   "execution_count": 1,
   "metadata": {
    "collapsed": true
   },
   "outputs": [],
   "source": [
    "import urllib"
   ]
  },
  {
   "cell_type": "code",
   "execution_count": 2,
   "metadata": {
    "collapsed": true
   },
   "outputs": [],
   "source": [
    "def download_NOAA_data(station, begin_date, end_date, outfile,\n",
    "                       product='hourly_height',\n",
    "                       units='metric', interval='h', time_zone='GMT',\n",
    "                       application='DFO', datum='STND',\n",
    "                       base_url='https://tidesandcurrents.noaa.gov/api/datagetter?'): \n",
    "    \"\"\"Download a CSV file with NOAA water levels from station\n",
    "    in date range [begin_date (YYYYMMDD), end_date (YYYYMMDD)].\n",
    "    Save results in outfile.\"\"\"\n",
    "    # Construct URL\n",
    "    url = ('{}begin_date={}&end_date={}&station={}&product={}&units={}&'\n",
    "           'application={}&interval={}&datum={}&'\n",
    "           'time_zone={}&format=csv'.format(base_url,\n",
    "                                            begin_date, \n",
    "                                            end_date,\n",
    "                                            station,\n",
    "                                            product,\n",
    "                                            units,\n",
    "                                            application,\n",
    "                                            interval,\n",
    "                                            datum,\n",
    "                                            time_zone)\n",
    "          )\n",
    "    print('URL:', url)\n",
    "    # Request data from URL\n",
    "    print('Downloading water level information from station {} '\n",
    "          'in date range {} to {}. Saving results in {}'.format(station, \n",
    "                                                                begin_date, \n",
    "                                                                end_date, \n",
    "                                                                outfile))\n",
    "    urllib.request.urlretrieve(url, outfile)"
   ]
  },
  {
   "cell_type": "markdown",
   "metadata": {},
   "source": [
    "### Download data for a station in a specified time range\n",
    "Now, use the function to download data for a station in a specified time range."
   ]
  },
  {
   "cell_type": "code",
   "execution_count": 3,
   "metadata": {},
   "outputs": [
    {
     "name": "stdout",
     "output_type": "stream",
     "text": [
      "URL: https://tidesandcurrents.noaa.gov/api/datagetter?begin_date=20180101&end_date=20180101&station=8418150&product=hourly_height&units=metric&application=DFO&interval=h&datum=STND&time_zone=GMT&format=csv\n",
      "Downloading water level information from station 8418150 in date range 20180101 to 20180101. Saving results in 8418150_20180101_20180101.csv\n"
     ]
    }
   ],
   "source": [
    "# station ID for Portland, Maine\n",
    "station=8418150\n",
    "begin_date='20180101'\n",
    "end_date='20180101'\n",
    "outfile='{}_{}_{}.csv'.format(station, begin_date, end_date)\n",
    "download_NOAA_data(station, begin_date, end_date, outfile)"
   ]
  },
  {
   "cell_type": "markdown",
   "metadata": {},
   "source": [
    "Take a quick peak at the file."
   ]
  },
  {
   "cell_type": "code",
   "execution_count": 4,
   "metadata": {},
   "outputs": [
    {
     "name": "stdout",
     "output_type": "stream",
     "text": [
      "Date Time, Water Level, Sigma, I, L \n",
      "2018-01-01 00:00,4.430,0.011,0,0\n",
      "2018-01-01 01:00,5.113,0.007,0,0\n",
      "2018-01-01 02:00,5.454,0.002,0,0\n",
      "2018-01-01 03:00,5.423,0.005,0,0\n",
      "2018-01-01 04:00,5.015,0.009,0,0\n",
      "2018-01-01 05:00,4.328,0.009,0,0\n",
      "2018-01-01 06:00,3.513,0.009,0,0\n",
      "2018-01-01 07:00,2.813,0.008,0,0\n",
      "2018-01-01 08:00,2.486,0.003,0,0\n",
      "2018-01-01 09:00,2.548,0.003,0,0\n",
      "2018-01-01 10:00,3.004,0.009,0,0\n",
      "2018-01-01 11:00,3.807,0.011,0,0\n",
      "2018-01-01 12:00,4.747,0.010,0,0\n",
      "2018-01-01 13:00,5.552,0.008,0,0\n",
      "2018-01-01 14:00,6.010,0.002,0,0\n",
      "2018-01-01 15:00,6.054,0.004,0,0\n",
      "2018-01-01 16:00,5.701,0.008,0,0\n",
      "2018-01-01 17:00,4.928,0.011,0,0\n",
      "2018-01-01 18:00,3.985,0.017,0,0\n",
      "2018-01-01 19:00,3.011,0.013,0,0\n",
      "2018-01-01 20:00,2.322,0.011,0,0\n",
      "2018-01-01 21:00,2.073,0.011,0,0\n",
      "2018-01-01 22:00,2.227,0.011,0,0\n",
      "2018-01-01 23:00,2.822,0.012,0,0\n"
     ]
    }
   ],
   "source": [
    "! more 8418150_20180101_20180101.csv"
   ]
  },
  {
   "cell_type": "markdown",
   "metadata": {},
   "source": [
    "### Download data for many stations\n",
    "We can write a for loop to download data for many stations, provided we know the ID of the stations we would like to download."
   ]
  },
  {
   "cell_type": "code",
   "execution_count": 5,
   "metadata": {},
   "outputs": [
    {
     "name": "stdout",
     "output_type": "stream",
     "text": [
      "URL: https://tidesandcurrents.noaa.gov/api/datagetter?begin_date=20180101&end_date=20180101&station=8413320&product=hourly_height&units=metric&application=DFO&interval=h&datum=STND&time_zone=GMT&format=csv\n",
      "Downloading water level information from station 8413320 in date range 20180101 to 20180101. Saving results in BarHarbor_8413320_20180101_20180101.csv\n",
      "URL: https://tidesandcurrents.noaa.gov/api/datagetter?begin_date=20180101&end_date=20180101&station=8411060&product=hourly_height&units=metric&application=DFO&interval=h&datum=STND&time_zone=GMT&format=csv\n",
      "Downloading water level information from station 8411060 in date range 20180101 to 20180101. Saving results in CutlerFarrisWharf_8411060_20180101_20180101.csv\n",
      "URL: https://tidesandcurrents.noaa.gov/api/datagetter?begin_date=20180101&end_date=20180101&station=8410140&product=hourly_height&units=metric&application=DFO&interval=h&datum=STND&time_zone=GMT&format=csv\n",
      "Downloading water level information from station 8410140 in date range 20180101 to 20180101. Saving results in Eastport_8410140_20180101_20180101.csv\n",
      "URL: https://tidesandcurrents.noaa.gov/api/datagetter?begin_date=20180101&end_date=20180101&station=8418150&product=hourly_height&units=metric&application=DFO&interval=h&datum=STND&time_zone=GMT&format=csv\n",
      "Downloading water level information from station 8418150 in date range 20180101 to 20180101. Saving results in Portland_8418150_20180101_20180101.csv\n",
      "URL: https://tidesandcurrents.noaa.gov/api/datagetter?begin_date=20180101&end_date=20180101&station=8419317&product=hourly_height&units=metric&application=DFO&interval=h&datum=STND&time_zone=GMT&format=csv\n",
      "Downloading water level information from station 8419317 in date range 20180101 to 20180101. Saving results in Wells_8419317_20180101_20180101.csv\n"
     ]
    }
   ],
   "source": [
    "begin_date='20180101'\n",
    "end_date='20180101'\n",
    "# NOAA stations in Maine\n",
    "stations = {'BarHarbor': 8413320,\n",
    "            'CutlerFarrisWharf': 8411060,\n",
    "            'Eastport': 8410140,\n",
    "            'Portland': 8418150,\n",
    "            'Wells': 8419317}\n",
    "for station in stations:\n",
    "    station_ID = stations[station]\n",
    "    outfile = '{}_{}_{}_{}.csv'.format(station, station_ID, begin_date, end_date)\n",
    "    download_NOAA_data(station_ID, begin_date, end_date, outfile)"
   ]
  },
  {
   "cell_type": "code",
   "execution_count": null,
   "metadata": {
    "collapsed": true
   },
   "outputs": [],
   "source": []
  }
 ],
 "metadata": {
  "kernelspec": {
   "display_name": "Python 3",
   "language": "python",
   "name": "python3"
  },
  "language_info": {
   "codemirror_mode": {
    "name": "ipython",
    "version": 3
   },
   "file_extension": ".py",
   "mimetype": "text/x-python",
   "name": "python",
   "nbconvert_exporter": "python",
   "pygments_lexer": "ipython3",
   "version": "3.6.3"
  }
 },
 "nbformat": 4,
 "nbformat_minor": 2
}
